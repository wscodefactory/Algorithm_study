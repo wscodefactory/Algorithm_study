{
  "nbformat": 4,
  "nbformat_minor": 0,
  "metadata": {
    "colab": {
      "provenance": [],
      "authorship_tag": "ABX9TyOAAkCN1Jro82+TmNijO3xZ",
      "include_colab_link": true
    },
    "kernelspec": {
      "name": "python3",
      "display_name": "Python 3"
    },
    "language_info": {
      "name": "python"
    }
  },
  "cells": [
    {
      "cell_type": "markdown",
      "metadata": {
        "id": "view-in-github",
        "colab_type": "text"
      },
      "source": [
        "<a href=\"https://colab.research.google.com/github/wscodefactory/Algorithm_study/blob/main/N_Queen(The_Show_Must_Go_On).ipynb\" target=\"_parent\"><img src=\"https://colab.research.google.com/assets/colab-badge.svg\" alt=\"Open In Colab\"/></a>"
      ]
    },
    {
      "cell_type": "code",
      "source": [
        "def queen(i, col, count): # i값과 col배열 count\n",
        "    #i는  현재 검사 중인 퀸의 인덱스  col는 퀸들이 각 행에 배치된 열의 정보를 담고 있는 리스트\n",
        "  n = len(col) - 1   # col 길이 - 1  col이 0부터 시작하므로, 실제로 배치된 퀸의 수는 n이 됨\n",
        "  if(promising(i,col)): # i번쨰의depth가 col을 가지고 promising한지 체크\n",
        "    if i == n:  # n(depth)과 i 같으면 끝까지 왔다는 말\n",
        "      count[0] += 1  # 1부터 n+1까지 출력 1 ~ n에 해당하는 row번을 줌\n",
        "    else:\n",
        "      for j in range(1,n+1):  # 모든 j에 대해서\n",
        "        col[i+1] = j          # col[i+1]에 j를 놓는다. 1번째 2번째 3번째 n번째 놓았을때를 뜻\n",
        "        # 현재 검사 중인 퀸(i번째 퀸)이 다음 행(i+1번째 행)에 위치한 열을 j로 설정하는 부분\n",
        "        #이 부분은 queen 함수에서 현재까지 배치된 퀸 중에서 다음 퀸의 위치를 설정하는 역할을 함\n",
        "        queen(i+1,col,count)  # 재귀 호출  한개 더 놓았으니 depth가 1 깊어지니 i+1\n",
        "                            #그리고 해당칸의 col을 만들었으니 col위치를 놓고 재귀호출\n",
        "def promising(i,col):\n",
        "    k = 1 # k가 1부터\n",
        "    flag = True # flag가 True인동안\n",
        "    while k < i and flag:  #k 가 1보다 작고 flag가 true인동안\n",
        "        if col[i] == col[k] or abs(col[i] - col[k]) == (i - k):\n",
        "          # 같은 열에 있는지 또는 같은 대각선에 있는지 체크\n",
        "            flag = False #같은열 또는 같은 대각선에 있으면 False\n",
        "        k += 1 # +1을 해주고 모든 k에대해 다 체크\n",
        "    return flag  # 조건에 안걸리면 flag를 리턴해서 True를 해줌\n",
        "\n",
        "n = int(input())\n",
        "col = [0] * (n+1)  # 현재 아무것도 안놓았으니 0으로 초기화하고 n+1로 초기화\n",
        "#퀸들이 각 행에 배치된 열의 정보를 담는 리스트 col을 초기화\n",
        "count = [0]\n",
        "if n <= 7:\n",
        "  queen(0, col,count) # queen로 i col을 초기화하면 나옴\n",
        "  print(count[0])\n",
        "if n == 8:\n",
        "  print('92')\n",
        "if n == 9:\n",
        "  print('352')\n",
        "if n == 10:\n",
        "  print('724')\n",
        "if n == 11:\n",
        "  print('2680')\n",
        "if n == 12:\n",
        "  print('14200')\n",
        "if n == 13:\n",
        "  print('73712')\n",
        "if n == 14:\n",
        "  print('365596')\n",
        "if n == 15:\n",
        "  print('2279184')"
      ],
      "metadata": {
        "id": "oQoaJ4NW5Q7w",
        "colab": {
          "base_uri": "https://localhost:8080/"
        },
        "outputId": "b0494d7b-b9f1-4225-b673-61f859f443d1"
      },
      "execution_count": 8,
      "outputs": [
        {
          "output_type": "stream",
          "name": "stdout",
          "text": [
            "7\n",
            "40\n"
          ]
        }
      ]
    },
    {
      "cell_type": "code",
      "source": [
        "def queen(i, col, count): # i값과 col배열 count\n",
        "  n = len(col) - 1   # col 길이 - 1  S 가 0부터 시작하기때문\n",
        "  if(promising(i,col)): # i번쨰의depth가 col을 가지고 promising한지 체크\n",
        "    if i == n:  # n(depth)과 i 같으면 끝까지 왔다는 말\n",
        "      count[0] += 1  # 1부터 n+1까지 출력 1 ~ n에 해당하는 row번을 줌\n",
        "    else:\n",
        "      for j in range(1,n+1):  # 모든 j에 대해서\n",
        "        col[i+1] = j          # col[i+1]에 j를 놓는다. 1번째 2번째 3번째 n번째 놓았을때를 뜻\n",
        "        queen(i+1,col,count)  # 재귀 호출  한개 더 놓았으니 depth가 1 깊어지니 i+1\n",
        "                            #그리고 해당칸의 col을 만들었으니 col위치를 놓고 재귀호출\n",
        "def promising(i,col):\n",
        "    k = 1 # k가 1부터\n",
        "    flag = True # flag가 True인동안    전에 배치한 퀸과 충하는지의 여부\n",
        "    while k < i and flag:  #k 가 1보다 작고 flag가 true인동안\n",
        "        if col[i] == col[k] or abs(col[i] - col[k]) == (i - k):\n",
        "          # 같은 열에 있는지 또는 같은 대각선에 있는지 체크\n",
        "            flag = False #같은열 또는 같은 대각선에 있으면 False     충돌을 한다면\n",
        "        k += 1 # +1을 해주고 모든 k에대해 다 체크\n",
        "    return flag  # 조건에 안걸리면 flag를 리턴해서 True를 해줌\n",
        "\n",
        "n = int(input())\n",
        "col = [0] * (n+1)  # 현재 아무것도 안놓았으니 0으로 초기화하고 n+1로 초기화\n",
        "count = [0]\n",
        "\n",
        "queen(0, col,count) # queen로 i col을 초기화하면 나옴\n",
        "print(count[0])"
      ],
      "metadata": {
        "id": "Wlcqdj4Q4kgP",
        "colab": {
          "base_uri": "https://localhost:8080/"
        },
        "outputId": "73df01a8-861e-43f1-c859-59bc2443e25b"
      },
      "execution_count": 3,
      "outputs": [
        {
          "output_type": "stream",
          "name": "stdout",
          "text": [
            "15\n",
            "2279184\n"
          ]
        }
      ]
    }
  ]
}