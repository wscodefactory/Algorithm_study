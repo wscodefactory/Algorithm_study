{
  "nbformat": 4,
  "nbformat_minor": 0,
  "metadata": {
    "colab": {
      "provenance": [],
      "authorship_tag": "ABX9TyMD3jNM7FKFFVlhpiPly++K",
      "include_colab_link": true
    },
    "kernelspec": {
      "name": "python3",
      "display_name": "Python 3"
    },
    "language_info": {
      "name": "python"
    }
  },
  "cells": [
    {
      "cell_type": "markdown",
      "metadata": {
        "id": "view-in-github",
        "colab_type": "text"
      },
      "source": [
        "<a href=\"https://colab.research.google.com/github/wscodefactory/Algorithm_study/blob/main/zero_10773.ipynb\" target=\"_parent\"><img src=\"https://colab.research.google.com/assets/colab-badge.svg\" alt=\"Open In Colab\"/></a>"
      ]
    },
    {
      "cell_type": "code",
      "execution_count": 2,
      "metadata": {
        "colab": {
          "base_uri": "https://localhost:8080/"
        },
        "id": "8P54a6gUDHZ4",
        "outputId": "13dabf7f-b602-472d-dfee-5d8a67383f5b"
      },
      "outputs": [
        {
          "output_type": "stream",
          "name": "stdout",
          "text": [
            "4\n",
            "3\n",
            "0\n",
            "4\n",
            "0\n",
            "0\n"
          ]
        }
      ],
      "source": [
        "k = int(input())\n",
        "stack = []\n",
        "\n",
        "for i in range(k):\n",
        "    num = int(input())\n",
        "    if num == 0:\n",
        "        stack.pop()\n",
        "    else:\n",
        "        stack.append(num)\n",
        "\n",
        "print(sum(stack))"
      ]
    }
  ]
}