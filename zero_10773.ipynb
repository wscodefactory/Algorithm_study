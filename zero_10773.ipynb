{
  "nbformat": 4,
  "nbformat_minor": 0,
  "metadata": {
    "colab": {
      "provenance": [],
      "authorship_tag": "ABX9TyNdblzM06U7FHglJSiRuTQ7",
      "include_colab_link": true
    },
    "kernelspec": {
      "name": "python3",
      "display_name": "Python 3"
    },
    "language_info": {
      "name": "python"
    }
  },
  "cells": [
    {
      "cell_type": "markdown",
      "metadata": {
        "id": "view-in-github",
        "colab_type": "text"
      },
      "source": [
        "<a href=\"https://colab.research.google.com/github/wscodefactory/Algorithm_study/blob/main/zero_10773.ipynb\" target=\"_parent\"><img src=\"https://colab.research.google.com/assets/colab-badge.svg\" alt=\"Open In Colab\"/></a>"
      ]
    },
    {
      "cell_type": "code",
      "execution_count": 1,
      "metadata": {
        "colab": {
          "base_uri": "https://localhost:8080/"
        },
        "id": "Ca12XRwtMEPE",
        "outputId": "b9636766-c684-464b-f325-645f1dea03c2"
      },
      "outputs": [
        {
          "output_type": "stream",
          "name": "stdout",
          "text": [
            "4\n",
            "3\n",
            "0\n",
            "3\n",
            "0\n",
            "0\n"
          ]
        }
      ],
      "source": [
        "k = int(input())\n",
        "stack = []\n",
        "\n",
        "for i in range(k):\n",
        "    num = int(input())\n",
        "    if num == 0:\n",
        "        stack.pop()\n",
        "    else:\n",
        "        stack.append(num)\n",
        "\n",
        "print(sum(stack))"
      ]
    }
  ]
}