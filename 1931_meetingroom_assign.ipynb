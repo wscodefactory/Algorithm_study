{
  "nbformat": 4,
  "nbformat_minor": 0,
  "metadata": {
    "colab": {
      "provenance": [],
      "authorship_tag": "ABX9TyOhNXM+caUF/1skN2bgPkyT",
      "include_colab_link": true
    },
    "kernelspec": {
      "name": "python3",
      "display_name": "Python 3"
    },
    "language_info": {
      "name": "python"
    }
  },
  "cells": [
    {
      "cell_type": "markdown",
      "metadata": {
        "id": "view-in-github",
        "colab_type": "text"
      },
      "source": [
        "<a href=\"https://colab.research.google.com/github/wscodefactory/Algorithm_study/blob/main/1931_meetingroom_assign.ipynb\" target=\"_parent\"><img src=\"https://colab.research.google.com/assets/colab-badge.svg\" alt=\"Open In Colab\"/></a>"
      ]
    },
    {
      "cell_type": "code",
      "execution_count": 3,
      "metadata": {
        "id": "aZ_XmiydC8vy",
        "colab": {
          "base_uri": "https://localhost:8080/"
        },
        "outputId": "f032835c-60a8-4bd6-cdd4-cd82cd56f391"
      },
      "outputs": [
        {
          "output_type": "stream",
          "name": "stdout",
          "text": [
            "11\n",
            "1 4\n",
            "3 5\n",
            "0 6\n",
            "5 7\n",
            "3 8\n",
            "5 9\n",
            "6 10\n",
            "8 11\n",
            "8 12\n",
            "2 13\n",
            "12 14\n",
            "4\n"
          ]
        }
      ],
      "source": [
        "N = int(input())\n",
        "meetings = []\n",
        "for _ in range(N):\n",
        "  start, end = map(int,input().split(\" \"))\n",
        "  meetings.append((start,end))\n",
        "# 종료 시간을 오름차순 정렬 , 시작 시간을 오름차순 정렬\n",
        "meetings.sort(key=lambda x: (x[1],x[0]))\n",
        "\n",
        "time = 0\n",
        "answer = 0\n",
        "for meeting in meetings:\n",
        "  if time <= meeting[0]:\n",
        "    time = meeting[1]\n",
        "    answer += 1\n",
        "\n",
        "print(answer)"
      ]
    }
  ]
}