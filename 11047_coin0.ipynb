{
  "nbformat": 4,
  "nbformat_minor": 0,
  "metadata": {
    "colab": {
      "provenance": [],
      "authorship_tag": "ABX9TyMmhWFAgNj9ubUWPIboMa4T",
      "include_colab_link": true
    },
    "kernelspec": {
      "name": "python3",
      "display_name": "Python 3"
    },
    "language_info": {
      "name": "python"
    }
  },
  "cells": [
    {
      "cell_type": "markdown",
      "metadata": {
        "id": "view-in-github",
        "colab_type": "text"
      },
      "source": [
        "<a href=\"https://colab.research.google.com/github/wscodefactory/Algorithm_study/blob/main/11047_coin0.ipynb\" target=\"_parent\"><img src=\"https://colab.research.google.com/assets/colab-badge.svg\" alt=\"Open In Colab\"/></a>"
      ]
    },
    {
      "cell_type": "code",
      "execution_count": 2,
      "metadata": {
        "colab": {
          "base_uri": "https://localhost:8080/"
        },
        "id": "vtvxu9iOCp5b",
        "outputId": "bbfcc120-dd7c-49d3-af0b-6138ca14bc49"
      },
      "outputs": [
        {
          "output_type": "stream",
          "name": "stdout",
          "text": [
            "10 4200\n",
            "1\n",
            "5\n",
            "10\n",
            "50\n",
            "100\n",
            "500\n",
            "1000\n",
            "5000\n",
            "10000\n",
            "50000\n",
            "6\n"
          ]
        }
      ],
      "source": [
        "N, K = map(int, input().split())\n",
        "coins = [int(input()) for _ in range(N)] # N개의 동전 가치를 입력받아 리스트에 저장\n",
        "\n",
        "count = 0\n",
        "\n",
        "# 동전 가치가 가장 큰 것부터 고려하여 최소 동전 개수 계산\n",
        "for i in range(N-1, -1, -1):\n",
        "    count += K // coins[i] # 현재 동전으로 만들 수 있는 최대 개수를 더함\n",
        "    K %= coins[i] # 현재 동전으로 만들고 남은 나머지 값을 갱신\n",
        "\n",
        "print(count)"
      ]
    }
  ]
}