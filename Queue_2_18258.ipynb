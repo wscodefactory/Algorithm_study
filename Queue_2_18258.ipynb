{
  "nbformat": 4,
  "nbformat_minor": 0,
  "metadata": {
    "colab": {
      "provenance": [],
      "authorship_tag": "ABX9TyMw4ZJp9tyIo2PjWH+vUA1w",
      "include_colab_link": true
    },
    "kernelspec": {
      "name": "python3",
      "display_name": "Python 3"
    },
    "language_info": {
      "name": "python"
    }
  },
  "cells": [
    {
      "cell_type": "markdown",
      "metadata": {
        "id": "view-in-github",
        "colab_type": "text"
      },
      "source": [
        "<a href=\"https://colab.research.google.com/github/wscodefactory/Algorithm_study/blob/main/Queue_2_18258.ipynb\" target=\"_parent\"><img src=\"https://colab.research.google.com/assets/colab-badge.svg\" alt=\"Open In Colab\"/></a>"
      ]
    },
    {
      "cell_type": "code",
      "execution_count": 6,
      "metadata": {
        "colab": {
          "base_uri": "https://localhost:8080/"
        },
        "id": "TopE4nydMyUt",
        "outputId": "cc4bb09c-a085-48d5-febe-fbcc1bfa70d5"
      },
      "outputs": [
        {
          "output_type": "stream",
          "name": "stdout",
          "text": [
            "15\n",
            "push 1\n",
            "[1]\n",
            "push 2\n",
            "[1, 2]\n",
            "front\n",
            "1\n",
            "[1, 2]\n",
            "back\n",
            "2\n",
            "[1, 2]\n",
            "size\n",
            "2\n",
            "[1, 2]\n",
            "empty\n",
            "0\n",
            "[1, 2]\n",
            "pop\n",
            "1\n",
            "[2]\n",
            "pop\n",
            "2\n",
            "[]\n",
            "pop\n",
            "-1\n",
            "[]\n",
            "size\n",
            "0\n",
            "[]\n",
            "empty\n",
            "1\n",
            "[]\n",
            "pop\n",
            "-1\n",
            "[]\n",
            "push 3\n",
            "[3]\n",
            "empty\n",
            "0\n",
            "[3]\n",
            "front\n",
            "3\n",
            "[3]\n"
          ]
        }
      ],
      "source": [
        "n = int(input())  # n을 정수로 변환해야 합니다.\n",
        "queue = []\n",
        "\n",
        "for _ in range(n):\n",
        "    command = input().split()\n",
        "\n",
        "    if command[0] == 'push':\n",
        "        queue.append(int(command[1]))  # push 명령어의 경우 값을 정수로 변환하여 추가합니다.\n",
        "        print(queue)\n",
        "    elif command[0] == 'pop':\n",
        "        if queue:\n",
        "            print(queue.pop(0))  # 큐에서 첫 번째 요소를 꺼내기 위해 pop(0)을 사용합니다.\n",
        "        else:\n",
        "            print(-1)\n",
        "        print(queue)\n",
        "    elif command[0] == 'size':\n",
        "        print(len(queue))\n",
        "        print(queue)\n",
        "    elif command[0] == 'empty':\n",
        "        if queue:\n",
        "            print(0)\n",
        "        else:\n",
        "            print(1)\n",
        "        print(queue)\n",
        "    elif command[0] == 'front':\n",
        "        if queue:\n",
        "            print(queue[0])\n",
        "        else:\n",
        "            print(-1)\n",
        "        print(queue)\n",
        "    elif command[0] == 'back':\n",
        "        if queue:\n",
        "            print(queue[-1])\n",
        "        else:\n",
        "            print(-1)\n",
        "        print(queue)"
      ]
    },
    {
      "cell_type": "code",
      "source": [
        "from collections import deque\n",
        "n = int(input())\n",
        "queue = deque([])\n",
        "\n",
        "for _ in range(n):\n",
        "    cmd = input().split()\n",
        "\n",
        "    if cmd[0] == 'push':\n",
        "        queue.append(cmd[1])\n",
        "    elif cmd[0] == 'pop':\n",
        "        if queue:\n",
        "            print(queue.popleft())\n",
        "        else:\n",
        "            print(-1)\n",
        "    elif cmd[0] == 'size':\n",
        "        print(len(queue))\n",
        "    elif cmd[0] == 'empty':\n",
        "        if queue:\n",
        "            print(0)\n",
        "        else:\n",
        "            print(1)\n",
        "    elif cmd[0] == 'front':\n",
        "        if queue:\n",
        "            print(queue[0])\n",
        "        else:\n",
        "            print(-1)\n",
        "    elif cmd[0] == 'back':\n",
        "        if queue:\n",
        "            print(queue[-1])\n",
        "        else:\n",
        "            print(-1)"
      ],
      "metadata": {
        "colab": {
          "base_uri": "https://localhost:8080/"
        },
        "id": "N7gcQBX4sKTA",
        "outputId": "e357ee35-e263-4090-b20d-fa33582ff56f"
      },
      "execution_count": 9,
      "outputs": [
        {
          "output_type": "stream",
          "name": "stdout",
          "text": [
            "15\n",
            "push 1\n",
            "push 2\n",
            "front\n",
            "1\n",
            "back\n",
            "2\n",
            "size\n",
            "2\n",
            "empty\n",
            "0\n",
            "pop\n",
            "1\n",
            "pop\n",
            "2\n",
            "pop\n",
            "-1\n",
            "size\n",
            "0\n",
            "empty\n",
            "1\n",
            "pop\n",
            "-1\n",
            "push 3\n",
            "empty\n",
            "0\n",
            "front\n",
            "3\n"
          ]
        }
      ]
    },
    {
      "cell_type": "code",
      "source": [
        "from collections import deque\n",
        "\n",
        "a = deque([1, 2, 3, 4, 5])\n",
        "print(a)\n",
        "\n",
        "a.popleft()\n",
        "print(a)\n",
        "\n"
      ],
      "metadata": {
        "colab": {
          "base_uri": "https://localhost:8080/"
        },
        "id": "nXaAXwzTuFoy",
        "outputId": "94526ab9-8f14-4aba-9b76-ba787e681e53"
      },
      "execution_count": 13,
      "outputs": [
        {
          "output_type": "stream",
          "name": "stdout",
          "text": [
            "deque([1, 2, 3, 4, 5])\n",
            "deque([2, 3, 4, 5])\n"
          ]
        }
      ]
    }
  ]
}