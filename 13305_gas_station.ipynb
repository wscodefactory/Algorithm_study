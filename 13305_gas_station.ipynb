{
  "nbformat": 4,
  "nbformat_minor": 0,
  "metadata": {
    "colab": {
      "provenance": [],
      "authorship_tag": "ABX9TyMszlz5zwi2GGF6KHwWqR/U",
      "include_colab_link": true
    },
    "kernelspec": {
      "name": "python3",
      "display_name": "Python 3"
    },
    "language_info": {
      "name": "python"
    }
  },
  "cells": [
    {
      "cell_type": "markdown",
      "metadata": {
        "id": "view-in-github",
        "colab_type": "text"
      },
      "source": [
        "<a href=\"https://colab.research.google.com/github/wscodefactory/Algorithm_study/blob/main/13305_gas_station.ipynb\" target=\"_parent\"><img src=\"https://colab.research.google.com/assets/colab-badge.svg\" alt=\"Open In Colab\"/></a>"
      ]
    },
    {
      "cell_type": "code",
      "execution_count": 3,
      "metadata": {
        "id": "c1riI_f2Dpgp",
        "colab": {
          "base_uri": "https://localhost:8080/"
        },
        "outputId": "20018348-6939-40ef-c53d-6e10b2374a8b"
      },
      "outputs": [
        {
          "output_type": "stream",
          "name": "stdout",
          "text": [
            "4\n",
            "3 3 4\n",
            "1 1 1 1\n",
            "10\n"
          ]
        }
      ],
      "source": [
        "n = int(input())\n",
        "L = list(map(int,input().split()))\n",
        "costs = list(map(int,input().split()))\n",
        "\n",
        "res = L[0] * costs[0]  # 연료 * 가격\n",
        "m = costs[0]          # 최소 비용 초기화\n",
        "dis = 0               # 거리 초기화\n",
        "for i in range(1, n-1): # 1원부터 시작이므로 1부터 시작\n",
        "  if costs[i] < m:    # 현재 연료 가격이 최소 비용보다 작은지 확인\n",
        "    res += m*dis      # 이전 구간 비용을 총합에 추가\n",
        "    dis = L[i]        # 새로운 구간을 위해 거리 초기화\n",
        "    m = costs[i]      # 최소 비용 업데이트\n",
        "  else:               # 현재 가격이 최소가 아니라면 거리를 누적\n",
        "    dis += L[i]\n",
        "\n",
        "  if i == n-2:       # n-1까지 반복이니깐 마지막 정거장인지 확인하고 총 비용 업데이트\n",
        "    res += m*dis\n",
        "\n",
        "print(res)"
      ]
    }
  ]
}