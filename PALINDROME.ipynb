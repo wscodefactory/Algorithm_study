{
  "nbformat": 4,
  "nbformat_minor": 0,
  "metadata": {
    "colab": {
      "provenance": [],
      "toc_visible": true,
      "authorship_tag": "ABX9TyMXB/FvLbUugtc+ZZaC7sZI",
      "include_colab_link": true
    },
    "kernelspec": {
      "name": "python3",
      "display_name": "Python 3"
    },
    "language_info": {
      "name": "python"
    }
  },
  "cells": [
    {
      "cell_type": "markdown",
      "metadata": {
        "id": "view-in-github",
        "colab_type": "text"
      },
      "source": [
        "<a href=\"https://colab.research.google.com/github/wscodefactory/Algorithm_study/blob/main/PALINDROME.ipynb\" target=\"_parent\"><img src=\"https://colab.research.google.com/assets/colab-badge.svg\" alt=\"Open In Colab\"/></a>"
      ]
    },
    {
      "cell_type": "code",
      "execution_count": null,
      "metadata": {
        "id": "rWF1Cz0uEelV"
      },
      "outputs": [],
      "source": [
        "def recursion(data, l, r):\n",
        "  global dep\n",
        "  dep+=1\n",
        "  if(l >= r):\n",
        "    return 1\n",
        "  elif (data[l] != data[r]):\n",
        "    return 0\n",
        "  else :\n",
        "    return recursion(data, l+1, r-1)\n",
        "\n",
        "def isPalindrome(data):\n",
        "    return recursion(data, 0, len(data)-1)\n",
        "\n",
        "def pal(data):\n",
        "  global dep\n",
        "  dep = 0\n",
        "  print(str(isPalindrome(data))+' '+str(dep))"
      ]
    },
    {
      "cell_type": "code",
      "source": [
        "num = int(input())\n",
        "for _ in range(num):\n",
        "    global dep\n",
        "    data = input()\n",
        "    pal(data)"
      ],
      "metadata": {
        "colab": {
          "base_uri": "https://localhost:8080/"
        },
        "id": "KUJiVTSyR3h8",
        "outputId": "bcbc5126-1318-45a7-b6e4-402c13525e0c"
      },
      "execution_count": null,
      "outputs": [
        {
          "output_type": "stream",
          "name": "stdout",
          "text": [
            "5\n",
            "AAA\n",
            "1 2\n",
            "AAC\n",
            "0 1\n",
            "ABBA\n",
            "1 3\n",
            "ABABA\n",
            "1 3\n",
            "ABCA\n",
            "0 2\n"
          ]
        }
      ]
    }
  ]
}