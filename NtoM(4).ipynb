{
  "nbformat": 4,
  "nbformat_minor": 0,
  "metadata": {
    "colab": {
      "provenance": [],
      "authorship_tag": "ABX9TyMi27ZScpHe0LLqb55aSywk",
      "include_colab_link": true
    },
    "kernelspec": {
      "name": "python3",
      "display_name": "Python 3"
    },
    "language_info": {
      "name": "python"
    }
  },
  "cells": [
    {
      "cell_type": "markdown",
      "metadata": {
        "id": "view-in-github",
        "colab_type": "text"
      },
      "source": [
        "<a href=\"https://colab.research.google.com/github/wscodefactory/Algorithm_study/blob/main/NtoM(4).ipynb\" target=\"_parent\"><img src=\"https://colab.research.google.com/assets/colab-badge.svg\" alt=\"Open In Colab\"/></a>"
      ]
    },
    {
      "cell_type": "code",
      "execution_count": 11,
      "metadata": {
        "colab": {
          "base_uri": "https://localhost:8080/"
        },
        "id": "yWCn2xK49hfE",
        "outputId": "cf814f9d-1a88-444f-b5f0-6afd7b4d7162"
      },
      "outputs": [
        {
          "output_type": "stream",
          "name": "stdout",
          "text": [
            "4 2\n",
            "1 1\n",
            "1 2\n",
            "1 3\n",
            "1 4\n",
            "2 2\n",
            "2 3\n",
            "2 4\n",
            "3 3\n",
            "3 4\n",
            "4 4\n"
          ]
        }
      ],
      "source": [
        "def seq(n, m, start=1, sequence=[]):\n",
        "\n",
        "    if m == 0:\n",
        "        print(*sequence)\n",
        "        return\n",
        "\n",
        "    for i in range(start, n+1):\n",
        "            seq(n, m-1 , i, sequence+[i])\n",
        "\n",
        "n, m = map(int, input().split())\n",
        "seq(n, m)"
      ]
    }
  ]
}