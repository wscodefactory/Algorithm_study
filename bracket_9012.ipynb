{
  "nbformat": 4,
  "nbformat_minor": 0,
  "metadata": {
    "colab": {
      "provenance": [],
      "authorship_tag": "ABX9TyNJnfyO3IQ50AjAY3ydfX7t",
      "include_colab_link": true
    },
    "kernelspec": {
      "name": "python3",
      "display_name": "Python 3"
    },
    "language_info": {
      "name": "python"
    }
  },
  "cells": [
    {
      "cell_type": "markdown",
      "metadata": {
        "id": "view-in-github",
        "colab_type": "text"
      },
      "source": [
        "<a href=\"https://colab.research.google.com/github/wscodefactory/Algorithm_study/blob/main/bracket_9012.ipynb\" target=\"_parent\"><img src=\"https://colab.research.google.com/assets/colab-badge.svg\" alt=\"Open In Colab\"/></a>"
      ]
    },
    {
      "cell_type": "code",
      "execution_count": 5,
      "metadata": {
        "colab": {
          "base_uri": "https://localhost:8080/"
        },
        "id": "wP3WNjqZHegQ",
        "outputId": "a774d2a1-84ef-4ab8-cfbc-aeb2fd22fc49"
      },
      "outputs": [
        {
          "output_type": "stream",
          "name": "stdout",
          "text": [
            "6\n",
            "(\n",
            "NO\n",
            "(())())\n",
            "NO\n",
            "()((()))\n",
            "YES\n",
            "((()))\n",
            "YES\n",
            "(())()()\n",
            "YES\n",
            "()())()()\n",
            "NO\n"
          ]
        }
      ],
      "source": [
        "n = int(input())\n",
        "\n",
        "for i in range(n):\n",
        "  stack=[]\n",
        "  m = input()\n",
        "  for j in m:\n",
        "    if j == '(':\n",
        "      stack.append(j)\n",
        "    elif j == ')':\n",
        "      if stack:\n",
        "        stack.pop()\n",
        "      else:\n",
        "        print(\"NO\")\n",
        "        break\n",
        "  else:\n",
        "    if not stack:\n",
        "      print(\"YES\")\n",
        "    else:\n",
        "      print(\"NO\")"
      ]
    }
  ]
}