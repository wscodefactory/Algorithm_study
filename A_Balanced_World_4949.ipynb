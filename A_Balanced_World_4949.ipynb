{
  "nbformat": 4,
  "nbformat_minor": 0,
  "metadata": {
    "colab": {
      "provenance": [],
      "authorship_tag": "ABX9TyOZ7gSOgyid/ZVZBVN7r1IQ",
      "include_colab_link": true
    },
    "kernelspec": {
      "name": "python3",
      "display_name": "Python 3"
    },
    "language_info": {
      "name": "python"
    }
  },
  "cells": [
    {
      "cell_type": "markdown",
      "metadata": {
        "id": "view-in-github",
        "colab_type": "text"
      },
      "source": [
        "<a href=\"https://colab.research.google.com/github/wscodefactory/Algorithm_study/blob/main/A_Balanced_World_4949.ipynb\" target=\"_parent\"><img src=\"https://colab.research.google.com/assets/colab-badge.svg\" alt=\"Open In Colab\"/></a>"
      ]
    },
    {
      "cell_type": "code",
      "execution_count": 6,
      "metadata": {
        "colab": {
          "base_uri": "https://localhost:8080/"
        },
        "id": "675HhvIjMvmY",
        "outputId": "5b654efb-9424-42da-ae9a-4f4aad886fb3"
      },
      "outputs": [
        {
          "name": "stdout",
          "output_type": "stream",
          "text": [
            "So when I die (the [first] I will see in (heaven) is a score list).\n",
            "['(']\n",
            "['(', '[']\n",
            "['(']\n",
            "['(', '(']\n",
            "['(']\n",
            "[]\n",
            "yes\n",
            "[ first in ] ( first out ).\n",
            "['[']\n",
            "[]\n",
            "['(']\n",
            "[]\n",
            "yes\n",
            "Half Moon tonight (At least it is better than no Moon at all].\n",
            "['(']\n",
            "no\n",
            "A rope may form )( a trail in a maze.\n",
            "no\n",
            "[]\n",
            "Help( I[m being held prisoner in a fortune cookie factory)].\n",
            "['(']\n",
            "['(', '[']\n",
            "no\n",
            "['(', '[']\n",
            "([ (([( [ ] ) ( ) (( ))] )) ]).\n",
            "['(']\n",
            "['(', '[']\n",
            "['(', '[', '(']\n",
            "['(', '[', '(', '(']\n",
            "['(', '[', '(', '(', '[']\n",
            "['(', '[', '(', '(', '[', '(']\n",
            "['(', '[', '(', '(', '[', '(', '[']\n",
            "['(', '[', '(', '(', '[', '(']\n",
            "['(', '[', '(', '(', '[']\n",
            "['(', '[', '(', '(', '[', '(']\n",
            "['(', '[', '(', '(', '[']\n",
            "['(', '[', '(', '(', '[', '(']\n",
            "['(', '[', '(', '(', '[', '(', '(']\n",
            "['(', '[', '(', '(', '[', '(']\n",
            "['(', '[', '(', '(', '[']\n",
            "['(', '[', '(', '(']\n",
            "['(', '[', '(']\n",
            "['(', '[']\n",
            "['(']\n",
            "[]\n",
            "yes\n",
            " .\n",
            "yes\n",
            ".\n"
          ]
        }
      ],
      "source": [
        "while True:\n",
        "    n = input()\n",
        "    stack = []\n",
        "\n",
        "    if n == '.':\n",
        "        break\n",
        "\n",
        "    for i in n:\n",
        "        if i == '(' or i == '[':\n",
        "            stack.append(i)\n",
        "            print(stack)\n",
        "        elif i == ')':\n",
        "            if stack and stack[-1] == '(':\n",
        "                stack.pop()\n",
        "                print(stack)\n",
        "            else:\n",
        "                print(\"no\")\n",
        "                print(stack)\n",
        "                break\n",
        "        elif i == ']':\n",
        "            if stack and stack[-1] == '[':\n",
        "                stack.pop()\n",
        "                print(stack)\n",
        "            else:\n",
        "                print(\"no\")\n",
        "                break\n",
        "    else:\n",
        "        if not stack:\n",
        "            print(\"yes\")\n",
        "        else:\n",
        "            print(\"no\")\n"
      ]
    },
    {
      "cell_type": "code",
      "source": [
        "So when I die (the [first] I will see in (heaven) is a score list).\n",
        "[ first in ] ( first out ).\n",
        "Half Moon tonight (At least it is better than no Moon at all].\n",
        "A rope may form )( a trail in a maze.\n",
        "Help( I[m being held prisoner in a fortune cookie factory)].\n",
        "([ (([( [ ] ) ( ) (( ))] )) ]).\n",
        " .\n",
        "."
      ],
      "metadata": {
        "id": "EVjD973OSjwW"
      },
      "execution_count": null,
      "outputs": []
    }
  ]
}