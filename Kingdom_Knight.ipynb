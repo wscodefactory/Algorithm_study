{
  "nbformat": 4,
  "nbformat_minor": 0,
  "metadata": {
    "colab": {
      "provenance": [],
      "authorship_tag": "ABX9TyMEeeAPlNpU2hx2Cqa+Lh1E",
      "include_colab_link": true
    },
    "kernelspec": {
      "name": "python3",
      "display_name": "Python 3"
    },
    "language_info": {
      "name": "python"
    }
  },
  "cells": [
    {
      "cell_type": "markdown",
      "metadata": {
        "id": "view-in-github",
        "colab_type": "text"
      },
      "source": [
        "<a href=\"https://colab.research.google.com/github/wscodefactory/Algorithm_study/blob/main/Kingdom_Knight.ipynb\" target=\"_parent\"><img src=\"https://colab.research.google.com/assets/colab-badge.svg\" alt=\"Open In Colab\"/></a>"
      ]
    },
    {
      "cell_type": "code",
      "execution_count": null,
      "metadata": {
        "colab": {
          "base_uri": "https://localhost:8080/"
        },
        "id": "hDEPvuFEUAB0",
        "outputId": "686d0a9e-ff5f-4c64-c81d-dd03e0ca4dd8"
      },
      "outputs": [
        {
          "output_type": "stream",
          "name": "stdout",
          "text": [
            "a1\n",
            "1 2\n",
            "2 1\n",
            "2\n"
          ]
        }
      ],
      "source": [
        "n = input()\n",
        "row = int(n[1])-1\n",
        "col = int(ord(n[0]))-97\n",
        "\n",
        "h = [[-2,-1],[-2,1],[-1,2],[-1,2],[1,-2],[1,2],[2,-1],[2,1]]\n",
        "\n",
        "count = 0\n",
        "for i in h:\n",
        "  a = row + i[0]\n",
        "  b = col + i[1]\n",
        "\n",
        "  if (0<=a<=7) and (0<=b<=7):\n",
        "    count += 1\n",
        "    print(a,b)\n",
        "print(count)"
      ]
    },
    {
      "cell_type": "code",
      "source": [
        "n = str(input())\n",
        "row = int(n[1])-1\n",
        "col = int(ord(n[0]))-97\n",
        "\n",
        "print(row)\n",
        "print(col)\n"
      ],
      "metadata": {
        "colab": {
          "base_uri": "https://localhost:8080/"
        },
        "id": "xnfsVMyyXhOi",
        "outputId": "72451e2a-bddc-4df9-fcec-cf72a2134844"
      },
      "execution_count": null,
      "outputs": [
        {
          "output_type": "stream",
          "name": "stdout",
          "text": [
            "a1\\\n",
            "0\n",
            "0\n"
          ]
        }
      ]
    }
  ]
}