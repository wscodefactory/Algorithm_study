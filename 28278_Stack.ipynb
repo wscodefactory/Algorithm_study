{
  "nbformat": 4,
  "nbformat_minor": 0,
  "metadata": {
    "colab": {
      "provenance": [],
      "authorship_tag": "ABX9TyM7MKm0JELnsd4zmMrsZmjo",
      "include_colab_link": true
    },
    "kernelspec": {
      "name": "python3",
      "display_name": "Python 3"
    },
    "language_info": {
      "name": "python"
    }
  },
  "cells": [
    {
      "cell_type": "markdown",
      "metadata": {
        "id": "view-in-github",
        "colab_type": "text"
      },
      "source": [
        "<a href=\"https://colab.research.google.com/github/wscodefactory/Algorithm_study/blob/main/28278_Stack.ipynb\" target=\"_parent\"><img src=\"https://colab.research.google.com/assets/colab-badge.svg\" alt=\"Open In Colab\"/></a>"
      ]
    },
    {
      "cell_type": "code",
      "source": [
        "class Stack:\n",
        "    def __init__(self):\n",
        "        self.items = []\n",
        "\n",
        "    def is_empty(self):\n",
        "        return len(self.items) == 0\n",
        "\n",
        "    def push(self, item):\n",
        "        self.items.append(item)\n",
        "\n",
        "    def pop(self):\n",
        "        if not self.is_empty():\n",
        "            return self.items.pop()\n",
        "        else:\n",
        "            return -1\n",
        "\n",
        "    def peek(self):\n",
        "        if not self.is_empty():\n",
        "            return self.items[-1]\n",
        "        else:\n",
        "            return -1\n",
        "\n",
        "    def size(self):\n",
        "        return len(self.items)\n",
        "\n",
        "\n",
        "def process_commands(commands):\n",
        "    stack = Stack()\n",
        "    results = []\n",
        "\n",
        "    for command in commands:\n",
        "        if command[0] == 1:\n",
        "            # Push\n",
        "            stack.push(command[1])\n",
        "        elif command[0] == 2:\n",
        "            # Pop\n",
        "            results.append(stack.pop())\n",
        "        elif command[0] == 3:\n",
        "            # Size\n",
        "            results.append(stack.size())\n",
        "        elif command[0] == 4:\n",
        "            # Is empty\n",
        "            results.append(1 if stack.is_empty() else 0)\n",
        "        elif command[0] == 5:\n",
        "            # Peek\n",
        "            results.append(stack.peek())\n",
        "\n",
        "    return results\n",
        "\n",
        "\n",
        "# 입력\n",
        "N = int(input())\n",
        "commands = []\n",
        "for _ in range(N):\n",
        "    command = list(map(int, input().split()))\n",
        "    commands.append(command)\n",
        "\n",
        "# 처리 및 출력\n",
        "output_results = process_commands(commands)\n",
        "for result in output_results:\n",
        "    print(result)\n"
      ],
      "metadata": {
        "colab": {
          "base_uri": "https://localhost:8080/"
        },
        "id": "U8DCdAfMKJ9X",
        "outputId": "efcd6d42-365e-4b6d-98f4-2b6bff1760e2"
      },
      "execution_count": 16,
      "outputs": [
        {
          "output_type": "stream",
          "name": "stdout",
          "text": [
            "9\n",
            "4\n",
            "1 3\n",
            "1 5\n",
            "3\n",
            "2\n",
            "5\n",
            "2\n",
            "2\n",
            "5\n",
            "1\n",
            "2\n",
            "5\n",
            "3\n",
            "3\n",
            "-1\n",
            "-1\n"
          ]
        }
      ]
    },
    {
      "cell_type": "code",
      "source": [
        "import sys\n",
        "input = sys.stdin.readline\n",
        "\n",
        "n = int(input())\n",
        "stack = []\n",
        "\n",
        "for _ in range(n):\n",
        "    command = list(map(int,input().split()))\n",
        "    if command[0] == 1:\n",
        "        stack.append(command[1])\n",
        "    elif command[0] == 2:\n",
        "        if stack:\n",
        "            print(stack.pop())\n",
        "        else:\n",
        "            print(-1)\n",
        "    elif command[0] == 3:\n",
        "         print(len(stack))\n",
        "    elif command[0] == 4:\n",
        "        if stack:\n",
        "            print(0)\n",
        "        else:\n",
        "            print(1)\n",
        "    elif command[0] == 5:\n",
        "        if stack:\n",
        "            print(stack[-1])\n",
        "        else:\n",
        "            print(-1)"
      ],
      "metadata": {
        "id": "byAN-5JNFzTg"
      },
      "execution_count": null,
      "outputs": []
    }
  ]
}