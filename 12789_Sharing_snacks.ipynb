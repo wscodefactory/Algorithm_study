{
  "nbformat": 4,
  "nbformat_minor": 0,
  "metadata": {
    "colab": {
      "provenance": [],
      "authorship_tag": "ABX9TyNW0TYkKRieg+5TQYjDdMEC",
      "include_colab_link": true
    },
    "kernelspec": {
      "name": "python3",
      "display_name": "Python 3"
    },
    "language_info": {
      "name": "python"
    }
  },
  "cells": [
    {
      "cell_type": "markdown",
      "metadata": {
        "id": "view-in-github",
        "colab_type": "text"
      },
      "source": [
        "<a href=\"https://colab.research.google.com/github/wscodefactory/Algorithm_study/blob/main/12789_Sharing_snacks.ipynb\" target=\"_parent\"><img src=\"https://colab.research.google.com/assets/colab-badge.svg\" alt=\"Open In Colab\"/></a>"
      ]
    },
    {
      "cell_type": "code",
      "execution_count": 9,
      "metadata": {
        "id": "dLHguDKUMy5s",
        "colab": {
          "base_uri": "https://localhost:8080/"
        },
        "outputId": "04adc9c5-cb6c-4918-a5c5-f3d7503f4aea"
      },
      "outputs": [
        {
          "output_type": "stream",
          "name": "stdout",
          "text": [
            "4\n",
            "1 3 2 4\n",
            "Nice\n"
          ]
        }
      ],
      "source": [
        "n = int(input())\n",
        "stop = list(map(int, input().split()))\n",
        "stack = []\n",
        "num = 1\n",
        "for i in range(n):\n",
        "    if stop[i] == num:\n",
        "        num += 1\n",
        "    else:\n",
        "        stack.append(stop[i])\n",
        "    while stack:\n",
        "        if stack and stack[-1] == num:\n",
        "            stack.pop()\n",
        "            num += 1\n",
        "        else:\n",
        "            break\n",
        "\n",
        "if not stack:\n",
        "    print(\"Nice\")\n",
        "else:\n",
        "    print(\"Sad\")"
      ]
    }
  ]
}