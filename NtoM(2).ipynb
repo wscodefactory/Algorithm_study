{
  "nbformat": 4,
  "nbformat_minor": 0,
  "metadata": {
    "colab": {
      "provenance": [],
      "authorship_tag": "ABX9TyMcUy4zUJXH9dorE40iLLI+",
      "include_colab_link": true
    },
    "kernelspec": {
      "name": "python3",
      "display_name": "Python 3"
    },
    "language_info": {
      "name": "python"
    }
  },
  "cells": [
    {
      "cell_type": "markdown",
      "metadata": {
        "id": "view-in-github",
        "colab_type": "text"
      },
      "source": [
        "<a href=\"https://colab.research.google.com/github/wscodefactory/Algorithm_study/blob/main/NtoM(2).ipynb\" target=\"_parent\"><img src=\"https://colab.research.google.com/assets/colab-badge.svg\" alt=\"Open In Colab\"/></a>"
      ]
    },
    {
      "cell_type": "code",
      "execution_count": 2,
      "metadata": {
        "colab": {
          "base_uri": "https://localhost:8080/"
        },
        "id": "JkL_8ZL0aocl",
        "outputId": "89813c0e-ff1f-457b-8854-be7f4b107f27"
      },
      "outputs": [
        {
          "output_type": "stream",
          "name": "stdout",
          "text": [
            "4 2\n",
            "1 2\n",
            "1 3\n",
            "1 4\n",
            "2 3\n",
            "2 4\n",
            "3 4\n"
          ]
        }
      ],
      "source": [
        "def seq(n, m, start=1, sequence=[]):\n",
        "    if m == 0:\n",
        "        print(*sequence)\n",
        "        return\n",
        "\n",
        "    for i in range(start, n + 1):\n",
        "        if i not in sequence:\n",
        "            seq(n, m - 1, i+1, sequence + [i])\n",
        "\n",
        "n, m = map(int, input().split())\n",
        "seq(n, m)\n"
      ]
    }
  ]
}