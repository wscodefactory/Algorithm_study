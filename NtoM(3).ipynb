{
  "nbformat": 4,
  "nbformat_minor": 0,
  "metadata": {
    "colab": {
      "provenance": [],
      "authorship_tag": "ABX9TyOFc7yFReUy/hlBTGGYVK2p",
      "include_colab_link": true
    },
    "kernelspec": {
      "name": "python3",
      "display_name": "Python 3"
    },
    "language_info": {
      "name": "python"
    }
  },
  "cells": [
    {
      "cell_type": "markdown",
      "metadata": {
        "id": "view-in-github",
        "colab_type": "text"
      },
      "source": [
        "<a href=\"https://colab.research.google.com/github/wscodefactory/Algorithm_study/blob/main/NtoM(3).ipynb\" target=\"_parent\"><img src=\"https://colab.research.google.com/assets/colab-badge.svg\" alt=\"Open In Colab\"/></a>"
      ]
    },
    {
      "cell_type": "code",
      "execution_count": 1,
      "metadata": {
        "id": "myl-zlWkbqA8",
        "colab": {
          "base_uri": "https://localhost:8080/"
        },
        "outputId": "ab1c7ad6-9345-47e0-fdf2-2aa812c72423"
      },
      "outputs": [
        {
          "output_type": "stream",
          "name": "stdout",
          "text": [
            "3 3\n",
            "1 1 1\n",
            "1 1 2\n",
            "1 1 3\n",
            "1 2 1\n",
            "1 2 2\n",
            "1 2 3\n",
            "1 3 1\n",
            "1 3 2\n",
            "1 3 3\n",
            "2 1 1\n",
            "2 1 2\n",
            "2 1 3\n",
            "2 2 1\n",
            "2 2 2\n",
            "2 2 3\n",
            "2 3 1\n",
            "2 3 2\n",
            "2 3 3\n",
            "3 1 1\n",
            "3 1 2\n",
            "3 1 3\n",
            "3 2 1\n",
            "3 2 2\n",
            "3 2 3\n",
            "3 3 1\n",
            "3 3 2\n",
            "3 3 3\n"
          ]
        }
      ],
      "source": [
        "def seq(n, m, sequence=[]):\n",
        "\n",
        "    if m == 0:\n",
        "        print(*sequence)\n",
        "        return\n",
        "\n",
        "    for i in range(1, n+1):\n",
        "            seq(n, m-1 , sequence  + [i])\n",
        "n, m = map(int, input().split())\n",
        "seq(n, m)"
      ]
    }
  ]
}