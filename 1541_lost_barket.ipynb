{
  "nbformat": 4,
  "nbformat_minor": 0,
  "metadata": {
    "colab": {
      "provenance": [],
      "authorship_tag": "ABX9TyM/liK0sl1zgeyXw1dF8Ehi",
      "include_colab_link": true
    },
    "kernelspec": {
      "name": "python3",
      "display_name": "Python 3"
    },
    "language_info": {
      "name": "python"
    }
  },
  "cells": [
    {
      "cell_type": "markdown",
      "metadata": {
        "id": "view-in-github",
        "colab_type": "text"
      },
      "source": [
        "<a href=\"https://colab.research.google.com/github/wscodefactory/Algorithm_study/blob/main/1541_lost_barket.ipynb\" target=\"_parent\"><img src=\"https://colab.research.google.com/assets/colab-badge.svg\" alt=\"Open In Colab\"/></a>"
      ]
    },
    {
      "cell_type": "code",
      "execution_count": null,
      "metadata": {
        "id": "JearaRFfDfA-"
      },
      "outputs": [],
      "source": [
        "K = input().split('-')\n",
        "num = []\n",
        "for i in K:\n",
        "  sum = 0\n",
        "  tmp = i.split('+')\n",
        "  for j in tmp: #split한 리스트의 각 요소들을 더해줌\n",
        "    sum += int(j)\n",
        "  num.append(sum) #각 항의 연산 결과(덧셈)를 num에 저장\n",
        "n = num[0] #식의 제일 처음은 숫자로 시작하기 때문에 0번째 값에서 나머지 값들을 빼준다\n",
        "for i in range(1,len(num)):\n",
        "  n -= num[i]\n",
        "print(n)"
      ]
    }
  ]
}