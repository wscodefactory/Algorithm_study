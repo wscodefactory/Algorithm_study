{
  "nbformat": 4,
  "nbformat_minor": 0,
  "metadata": {
    "colab": {
      "provenance": [],
      "authorship_tag": "ABX9TyPe9YsLpgMP/AsZX3gcDmIc",
      "include_colab_link": true
    },
    "kernelspec": {
      "name": "python3",
      "display_name": "Python 3"
    },
    "language_info": {
      "name": "python"
    }
  },
  "cells": [
    {
      "cell_type": "markdown",
      "metadata": {
        "id": "view-in-github",
        "colab_type": "text"
      },
      "source": [
        "<a href=\"https://colab.research.google.com/github/wscodefactory/Algorithm_study/blob/main/14888_%EC%97%B0%EC%82%B0%EC%9E%90_%EB%81%BC%EC%9B%8C%EB%84%A3%EA%B8%B0.ipynb\" target=\"_parent\"><img src=\"https://colab.research.google.com/assets/colab-badge.svg\" alt=\"Open In Colab\"/></a>"
      ]
    },
    {
      "cell_type": "code",
      "execution_count": 6,
      "metadata": {
        "colab": {
          "base_uri": "https://localhost:8080/"
        },
        "id": "SIJVNVHXBBmj",
        "outputId": "82294845-e44a-4a9d-a415-76d8627da12a"
      },
      "outputs": [
        {
          "output_type": "stream",
          "name": "stdout",
          "text": [
            "3\n",
            "3 4 5\n",
            "1 0 1 0\n",
            "35\n",
            "17\n"
          ]
        }
      ],
      "source": [
        "N = int(input())\n",
        "\n",
        "lst = list(map(int, input().split()))\n",
        "\n",
        "operators = list(map(int, input().split()))\n",
        "\n",
        "M = -1e9\n",
        "m = 1e9\n",
        "\n",
        "def dfs (n,temp) :\n",
        "      global M, m\n",
        "    # 종료\n",
        "      if n == N-1:\n",
        "              M = max(temp, M)\n",
        "              m = min(temp, m)\n",
        "              return\n",
        "\n",
        "      #호출\n",
        "      if operators[0] != 0 : # +\n",
        "          operators[0] -= 1\n",
        "          dfs(n+1, temp + lst[n+1])\n",
        "          operators[0] += 1\n",
        "\n",
        "      if operators[1] != 0 : # -\n",
        "          operators[1]-= 1\n",
        "          dfs(n+1, temp - lst[n+1])\n",
        "          operators[1] += 1\n",
        "\n",
        "      if operators[2] != 0 : # *\n",
        "          operators[2] -= 1\n",
        "          dfs(n+1, temp * lst[n+1])\n",
        "          operators[2] += 1\n",
        "\n",
        "      if operators[3] != 0 : # /\n",
        "          operators[3] -= 1\n",
        "          dfs(n+1, int(temp/lst[n+1]))\n",
        "          operators[3] += 1\n",
        "\n",
        "dfs(0, lst[0])\n",
        "print(M)\n",
        "print(m)"
      ]
    }
  ]
}