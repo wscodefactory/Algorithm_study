{
  "nbformat": 4,
  "nbformat_minor": 0,
  "metadata": {
    "colab": {
      "provenance": [],
      "authorship_tag": "ABX9TyNvr/URRvbAOw8b+Z5MOsO3",
      "include_colab_link": true
    },
    "kernelspec": {
      "name": "python3",
      "display_name": "Python 3"
    },
    "language_info": {
      "name": "python"
    }
  },
  "cells": [
    {
      "cell_type": "markdown",
      "metadata": {
        "id": "view-in-github",
        "colab_type": "text"
      },
      "source": [
        "<a href=\"https://colab.research.google.com/github/wscodefactory/Algorithm_study/blob/main/Cantoring_Along.ipynb\" target=\"_parent\"><img src=\"https://colab.research.google.com/assets/colab-badge.svg\" alt=\"Open In Colab\"/></a>"
      ]
    },
    {
      "cell_type": "code",
      "execution_count": 5,
      "metadata": {
        "id": "Pw2qS5kGd6l0"
      },
      "outputs": [],
      "source": [
        "import sys\n",
        "input = sys.stdin.readline\n",
        "\n",
        "def Cantor(n):\n",
        "  if (n==1):\n",
        "    return '-'\n",
        "  else:\n",
        "    c = Cantor(n//3)\n",
        "    a = ' '*(n//3)\n",
        "    return c + a + c\n",
        "\n",
        "while True:\n",
        "  try:\n",
        "    n = int(input())\n",
        "    b = Cantor(3**n)\n",
        "    print(b)\n",
        "  except:\n",
        "    break"
      ]
    }
  ]
}